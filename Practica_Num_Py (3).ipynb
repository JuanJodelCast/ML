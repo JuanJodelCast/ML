{
 "cells": [
  {
   "cell_type": "markdown",
   "metadata": {},
   "source": [
    "[![Open In Colab](https://colab.research.google.com/assets/colab-badge.svg)](https://colab.research.google.com/github/MauricioRR-Tec/Machine-Learning/blob/master/Notebooks/Practica_Num_Py.ipynb)"
   ]
  },
  {
   "cell_type": "markdown",
   "metadata": {},
   "source": [
    "# Practica - MNist con NumPy\n",
    "---\n",
    "## Usando Numpy con MNist\n",
    "\n",
    "MNist es un popular conjunto de datos que contiene imágenes de dígitos del 0-9 escritos a mano. Las imágenes en el conjunto están compuestas por 28x28 pixeles, cada pixel representa un tono en una escala de grises siendo 0 el valor más luminoso y 255 el valor más oscuro.\n",
    "\n",
    "Unos ejemplos de las imágenes en MNist:\n",
    "\n",
    "![alt text](https://upload.wikimedia.org/wikipedia/commons/2/27/MnistExamples.png)"
   ]
  },
  {
   "cell_type": "markdown",
   "metadata": {},
   "source": [
    "Ejecuta la siguiente celda para importar las librerías utilizadas durante la notebook.\n"
   ]
  },
  {
   "cell_type": "code",
   "execution_count": 4,
   "metadata": {},
   "outputs": [],
   "source": [
    "import numpy as np\n",
    "from matplotlib import pyplot as plt"
   ]
  },
  {
   "cell_type": "markdown",
   "metadata": {},
   "source": [
    "Una función auxiliar ```display_example``` para visualizar ejemplos en el conjunto de datos MNist.\n",
    "\n",
    "*Nota: No olvides ejecutar la celda*"
   ]
  },
  {
   "cell_type": "code",
   "execution_count": 5,
   "metadata": {},
   "outputs": [],
   "source": [
    "def display_example(x, example_width=None):\n",
    "    \"\"\"Muestra un ejemplo en forma 1D como una imagen\"\"\"\n",
    "    # Compute rows, cols\n",
    "    if x.ndim == 1:\n",
    "        n = x.size\n",
    "        m = 1\n",
    "        x = x[None]  # Promote to a 2 dimensional array\n",
    "    else:\n",
    "        raise IndexError('Input x should be 1 dimensional.')\n",
    "\n",
    "    example_width = example_width or int(np.round(np.sqrt(n)))\n",
    "    example_height = n // example_width\n",
    "\n",
    "    plt.imshow(x[0].reshape(example_height, example_width),\n",
    "                        cmap='Greys', extent=[0, 1, 0, 1])\n",
    "    plt.show()"
   ]
  },
  {
   "cell_type": "markdown",
   "metadata": {},
   "source": [
    "## Cargando los datos usando Numpy\n",
    "\n",
    "Usarémos la función ```loadtxt``` para cargar una versión de MNist que está en nuestra máquina asignada por colab."
   ]
  },
  {
   "cell_type": "code",
   "execution_count": 6,
   "metadata": {},
   "outputs": [
    {
     "ename": "OSError",
     "evalue": "sample_data/mnist_train_small.csv not found.",
     "output_type": "error",
     "traceback": [
      "\u001b[1;31m---------------------------------------------------------------------------\u001b[0m",
      "\u001b[1;31mOSError\u001b[0m                                   Traceback (most recent call last)",
      "\u001b[1;32m<ipython-input-6-787eda2c1581>\u001b[0m in \u001b[0;36m<module>\u001b[1;34m\u001b[0m\n\u001b[1;32m----> 1\u001b[1;33m \u001b[0mMNist\u001b[0m \u001b[1;33m=\u001b[0m \u001b[0mnp\u001b[0m\u001b[1;33m.\u001b[0m\u001b[0mloadtxt\u001b[0m\u001b[1;33m(\u001b[0m\u001b[1;34m\"sample_data/mnist_train_small.csv\"\u001b[0m\u001b[1;33m,\u001b[0m \u001b[0mdelimiter\u001b[0m\u001b[1;33m=\u001b[0m\u001b[1;34m','\u001b[0m\u001b[1;33m)\u001b[0m\u001b[1;33m\u001b[0m\u001b[1;33m\u001b[0m\u001b[0m\n\u001b[0m\u001b[0;32m      2\u001b[0m \u001b[0mMNist\u001b[0m\u001b[1;33m\u001b[0m\u001b[1;33m\u001b[0m\u001b[0m\n",
      "\u001b[1;32mD:\\Programas x32\\Anaconda\\Install\\lib\\site-packages\\numpy\\lib\\npyio.py\u001b[0m in \u001b[0;36mloadtxt\u001b[1;34m(fname, dtype, comments, delimiter, converters, skiprows, usecols, unpack, ndmin, encoding, max_rows)\u001b[0m\n\u001b[0;32m    979\u001b[0m             \u001b[0mfname\u001b[0m \u001b[1;33m=\u001b[0m \u001b[0mos_fspath\u001b[0m\u001b[1;33m(\u001b[0m\u001b[0mfname\u001b[0m\u001b[1;33m)\u001b[0m\u001b[1;33m\u001b[0m\u001b[1;33m\u001b[0m\u001b[0m\n\u001b[0;32m    980\u001b[0m         \u001b[1;32mif\u001b[0m \u001b[0m_is_string_like\u001b[0m\u001b[1;33m(\u001b[0m\u001b[0mfname\u001b[0m\u001b[1;33m)\u001b[0m\u001b[1;33m:\u001b[0m\u001b[1;33m\u001b[0m\u001b[1;33m\u001b[0m\u001b[0m\n\u001b[1;32m--> 981\u001b[1;33m             \u001b[0mfh\u001b[0m \u001b[1;33m=\u001b[0m \u001b[0mnp\u001b[0m\u001b[1;33m.\u001b[0m\u001b[0mlib\u001b[0m\u001b[1;33m.\u001b[0m\u001b[0m_datasource\u001b[0m\u001b[1;33m.\u001b[0m\u001b[0mopen\u001b[0m\u001b[1;33m(\u001b[0m\u001b[0mfname\u001b[0m\u001b[1;33m,\u001b[0m \u001b[1;34m'rt'\u001b[0m\u001b[1;33m,\u001b[0m \u001b[0mencoding\u001b[0m\u001b[1;33m=\u001b[0m\u001b[0mencoding\u001b[0m\u001b[1;33m)\u001b[0m\u001b[1;33m\u001b[0m\u001b[1;33m\u001b[0m\u001b[0m\n\u001b[0m\u001b[0;32m    982\u001b[0m             \u001b[0mfencoding\u001b[0m \u001b[1;33m=\u001b[0m \u001b[0mgetattr\u001b[0m\u001b[1;33m(\u001b[0m\u001b[0mfh\u001b[0m\u001b[1;33m,\u001b[0m \u001b[1;34m'encoding'\u001b[0m\u001b[1;33m,\u001b[0m \u001b[1;34m'latin1'\u001b[0m\u001b[1;33m)\u001b[0m\u001b[1;33m\u001b[0m\u001b[1;33m\u001b[0m\u001b[0m\n\u001b[0;32m    983\u001b[0m             \u001b[0mfh\u001b[0m \u001b[1;33m=\u001b[0m \u001b[0miter\u001b[0m\u001b[1;33m(\u001b[0m\u001b[0mfh\u001b[0m\u001b[1;33m)\u001b[0m\u001b[1;33m\u001b[0m\u001b[1;33m\u001b[0m\u001b[0m\n",
      "\u001b[1;32mD:\\Programas x32\\Anaconda\\Install\\lib\\site-packages\\numpy\\lib\\_datasource.py\u001b[0m in \u001b[0;36mopen\u001b[1;34m(path, mode, destpath, encoding, newline)\u001b[0m\n\u001b[0;32m    267\u001b[0m \u001b[1;33m\u001b[0m\u001b[0m\n\u001b[0;32m    268\u001b[0m     \u001b[0mds\u001b[0m \u001b[1;33m=\u001b[0m \u001b[0mDataSource\u001b[0m\u001b[1;33m(\u001b[0m\u001b[0mdestpath\u001b[0m\u001b[1;33m)\u001b[0m\u001b[1;33m\u001b[0m\u001b[1;33m\u001b[0m\u001b[0m\n\u001b[1;32m--> 269\u001b[1;33m     \u001b[1;32mreturn\u001b[0m \u001b[0mds\u001b[0m\u001b[1;33m.\u001b[0m\u001b[0mopen\u001b[0m\u001b[1;33m(\u001b[0m\u001b[0mpath\u001b[0m\u001b[1;33m,\u001b[0m \u001b[0mmode\u001b[0m\u001b[1;33m,\u001b[0m \u001b[0mencoding\u001b[0m\u001b[1;33m=\u001b[0m\u001b[0mencoding\u001b[0m\u001b[1;33m,\u001b[0m \u001b[0mnewline\u001b[0m\u001b[1;33m=\u001b[0m\u001b[0mnewline\u001b[0m\u001b[1;33m)\u001b[0m\u001b[1;33m\u001b[0m\u001b[1;33m\u001b[0m\u001b[0m\n\u001b[0m\u001b[0;32m    270\u001b[0m \u001b[1;33m\u001b[0m\u001b[0m\n\u001b[0;32m    271\u001b[0m \u001b[1;33m\u001b[0m\u001b[0m\n",
      "\u001b[1;32mD:\\Programas x32\\Anaconda\\Install\\lib\\site-packages\\numpy\\lib\\_datasource.py\u001b[0m in \u001b[0;36mopen\u001b[1;34m(self, path, mode, encoding, newline)\u001b[0m\n\u001b[0;32m    621\u001b[0m                                       encoding=encoding, newline=newline)\n\u001b[0;32m    622\u001b[0m         \u001b[1;32melse\u001b[0m\u001b[1;33m:\u001b[0m\u001b[1;33m\u001b[0m\u001b[1;33m\u001b[0m\u001b[0m\n\u001b[1;32m--> 623\u001b[1;33m             \u001b[1;32mraise\u001b[0m \u001b[0mIOError\u001b[0m\u001b[1;33m(\u001b[0m\u001b[1;34m\"%s not found.\"\u001b[0m \u001b[1;33m%\u001b[0m \u001b[0mpath\u001b[0m\u001b[1;33m)\u001b[0m\u001b[1;33m\u001b[0m\u001b[1;33m\u001b[0m\u001b[0m\n\u001b[0m\u001b[0;32m    624\u001b[0m \u001b[1;33m\u001b[0m\u001b[0m\n\u001b[0;32m    625\u001b[0m \u001b[1;33m\u001b[0m\u001b[0m\n",
      "\u001b[1;31mOSError\u001b[0m: sample_data/mnist_train_small.csv not found."
     ]
    }
   ],
   "source": [
    "MNist = np.loadtxt(\"sample_data/mnist_train_small.csv\", delimiter=',')\n",
    "MNist"
   ]
  },
  {
   "cell_type": "markdown",
   "metadata": {},
   "source": [
    "El conjunto de datos MNist en Colab está formado por imágenes de ejemplo. Cada ejemplo en el conjunto es una fila en el arreglo de NumPy.\n",
    "\n",
    "Cada ejemplo (fila) es un arreglo con $785$ elementos, el primer elemento es la etiqueta del dígito (un entero de $0$ a $9$). El resto de los elementos ($784$) son los pixeles de la imágen ($28\\times28 = 784$).\n",
    "\n",
    "---\n",
    "## ¿Cuántos ejemplos (filas) tenemos en el conjunto de datos?\n",
    "\n",
    "Utiliza NumPy para calcular el número de filas en el set de datos, rellena el código para guardar el valor en la variable ```m```."
   ]
  },
  {
   "cell_type": "code",
   "execution_count": null,
   "metadata": {},
   "outputs": [],
   "source": [
    "m = MNist.shape[0]\n",
    "print(\"El set de datos contiene \", m, \" ejemplos.\")"
   ]
  },
  {
   "cell_type": "markdown",
   "metadata": {},
   "source": [
    "## Separando los datos.\n",
    "\n",
    "En la siguiente celda, deberás completar el código para separar el conjunto de datos en dos, un conjunto ```X``` que contendrá únicamente los pixeles de las imágenes y un conjunto ```y``` que contendrá las etiquetas asociadas al número que está en la imágen.\n",
    "\n",
    "Utiliza slicing con NumPy para seleccionar los elementos adecuados."
   ]
  },
  {
   "cell_type": "code",
   "execution_count": null,
   "metadata": {},
   "outputs": [],
   "source": [
    "X = MNist[0:, 1:]\n",
    "y = MNist[0:, :1]"
   ]
  },
  {
   "cell_type": "code",
   "execution_count": null,
   "metadata": {},
   "outputs": [],
   "source": [
    "Comprueba ejecutando la siguiente celda:\n"
   ]
  },
  {
   "cell_type": "code",
   "execution_count": null,
   "metadata": {},
   "outputs": [],
   "source": [
    "assert y.shape == (20000,1) and X.shape == (20000, 784), \"Error en las dimensiones de X o y\"\n",
    "print(\"X.shape:\", X.shape)\n",
    "print(\"y.shape:\", y.shape)"
   ]
  },
  {
   "cell_type": "markdown",
   "metadata": {},
   "source": [
    "## Visualizando las imágenes en el set de datos\n",
    "\n",
    "Usemos la función auxiliar display_example para visualizar los ejemplos en el set de datos. Intentar cambiar el valor de ```i``` para mostrar una ejemplo distinto."
   ]
  },
  {
   "cell_type": "code",
   "execution_count": null,
   "metadata": {},
   "outputs": [],
   "source": [
    "#puedes cambiar el valor de i\n",
    "i = 7\n",
    "\n",
    "example = X[i]\n",
    "example_label = y[i]\n",
    "display_example(example)\n",
    "print(\"Imágen con etiqueta: \", example_label)"
   ]
  },
  {
   "cell_type": "markdown",
   "metadata": {},
   "source": [
    "## Contando el número de ejemplos para cada \"clase\"\n",
    "\n",
    "Rellena la función ```count_class_examples()``` para imprimir el número de ejemplos de cada etiqueta en el set de datos. Esto es, el número de ceros, de unos, dos, ..., nueves.\n",
    "\n",
    "Para MNist las etiquetas $y \\in \\{0, 1, 2, \\dots, 9\\}$"
   ]
  },
  {
   "cell_type": "code",
   "execution_count": null,
   "metadata": {},
   "outputs": [],
   "source": [
    "def count_class_examples(y):\n",
    "  \"\"\"Imprime el numero de ejemplos para cada clase en y.\n",
    "  \n",
    "  Argumentos\n",
    "  y - arreglos de numpy que contiene etiquetas\n",
    "  \"\"\"\n",
    "  \n",
    "  for i in range(10):\n",
    "    count = 0\n",
    "    for j in range(y.shape[0]):\n",
    "      if y[j] == i:\n",
    "        count += 1\n",
    "    print(\"Numero de {}: {}\".format(i,count))"
   ]
  },
  {
   "cell_type": "code",
   "execution_count": null,
   "metadata": {},
   "outputs": [],
   "source": [
    "count_class_examples(y)"
   ]
  },
  {
   "cell_type": "markdown",
   "metadata": {},
   "source": [
    "## Calcula el arreglo representativo para cada clase\n",
    "\n",
    "Utiliza Numpy para encontrar el arreglo representativo promediando los arreglos para cada clase. Rellena la función ``` class_means``` para que devuelva un arreglo de NumPy que contenga en cada fila el arreglo promedio de los respectivos ejemplos (del dígito 0 al 9)."
   ]
  },
  {
   "cell_type": "code",
   "execution_count": null,
   "metadata": {},
   "outputs": [],
   "source": [
    "def class_means(X, y):\n",
    "  \"\"\"\n",
    "  Calcula el arreglo promedio (representativo) de cada clase\n",
    "  \"\"\"\n",
    "  # Numero de ejemplos (filas)\n",
    "  m = X.shape[0]\n",
    "  # Numero de features (columnas)\n",
    "  n = X.shape[1]\n",
    "  # Clases distintas en el set\n",
    "  ulabels = np.unique(y)\n",
    "  # Numero de clases\n",
    "  classes = ulabels.size\n",
    "\n",
    "  # Rellena means con el arreglo promedio de cada clase\n",
    "  means = np.empty((classes, n))\n",
    "  means[:,:]=0\n",
    "  for i in range(classes):\n",
    "    count = 0\n",
    "    for j in range(m):\n",
    "      if y[j] == i:\n",
    "        for k in range(n):\n",
    "          means[i][k] += X[j][k]\n",
    "        count += 1\n",
    "    for k in range(n):\n",
    "      means[i][k] = means[i][k]/count \n",
    "\n",
    "  return means"
   ]
  },
  {
   "cell_type": "code",
   "execution_count": null,
   "metadata": {},
   "outputs": [],
   "source": [
    "class_representatives = class_means(X, y)\n",
    "\n",
    "#shape del arreglo que contiene los representativos\n",
    "class_representatives.shape"
   ]
  },
  {
   "cell_type": "code",
   "execution_count": null,
   "metadata": {},
   "outputs": [],
   "source": [
    "assert np.array_equal(class_means(np.array([[4, 6], [2, 4], [10, 4], [2, 6]]), np.array([1, 2, 1, 2])), np.array([[7, 5], [2, 5]])), \"Error\"\n",
    "#class_means(np.array([[4, 6], [2, 4], [10, 4], [2, 6]]), np.array([1, 2, 1, 2])\n",
    "assert class_representatives.shape == (10, 784), \"Error en las dimensiones de class_representatives\"\n",
    "print(\"Funcion clas_means es correcta\")"
   ]
  },
  {
   "cell_type": "markdown",
   "metadata": {},
   "source": [
    "Utiliza la función display_example para mostrar el ejemplo promedio de la clase (para cada clase).\n"
   ]
  },
  {
   "cell_type": "code",
   "execution_count": 3,
   "metadata": {},
   "outputs": [
    {
     "ename": "NameError",
     "evalue": "name 'class_representatives' is not defined",
     "output_type": "error",
     "traceback": [
      "\u001b[1;31m---------------------------------------------------------------------------\u001b[0m",
      "\u001b[1;31mNameError\u001b[0m                                 Traceback (most recent call last)",
      "\u001b[1;32m<ipython-input-3-4fa8ffa0e0f0>\u001b[0m in \u001b[0;36m<module>\u001b[1;34m\u001b[0m\n\u001b[0;32m      1\u001b[0m \u001b[1;32mfor\u001b[0m \u001b[0mi\u001b[0m \u001b[1;32min\u001b[0m \u001b[0mrange\u001b[0m\u001b[1;33m(\u001b[0m\u001b[1;36m10\u001b[0m\u001b[1;33m)\u001b[0m\u001b[1;33m:\u001b[0m\u001b[1;33m\u001b[0m\u001b[1;33m\u001b[0m\u001b[0m\n\u001b[1;32m----> 2\u001b[1;33m   \u001b[0mdisplay_example\u001b[0m\u001b[1;33m(\u001b[0m\u001b[0mclass_representatives\u001b[0m\u001b[1;33m[\u001b[0m\u001b[0mi\u001b[0m\u001b[1;33m]\u001b[0m\u001b[1;33m)\u001b[0m\u001b[1;33m\u001b[0m\u001b[1;33m\u001b[0m\u001b[0m\n\u001b[0m",
      "\u001b[1;31mNameError\u001b[0m: name 'class_representatives' is not defined"
     ]
    }
   ],
   "source": [
    "for i in range(10):\n",
    "  display_example(class_representatives[i])"
   ]
  },
  {
   "cell_type": "markdown",
   "metadata": {},
   "source": [
    "## Clasificador de dígitos usando distancias\n",
    "\n",
    "En esta sección, generaremos un modelo para identificar dígitos mediante el uso de distancias euclidianas. Calcularemos la distancia entre cada ejemplo en el conjunto y los dígitos representativos de cada clase (el valor promedio de cada clase). Le asignaremos a cada ejemplo la etiqueta del dígito representativo con menor distancia.\n",
    "\n",
    "---\n",
    "\n",
    "### Distancia Euclidiana\n",
    "\n",
    "En la siguiente celda, rellena la función ```euclidean_distance``` para calcular la distancia euclidiana entre los puntos P y Q.\n",
    "\n",
    "La distancia euclidiana entre dos puntos P y Q en un espacio n-dimesional es:\n",
    "\n",
    "$$d_e(P, Q) = \\sqrt{(p_1 - q_1)^2+(p_2-q_2)^2 + \\dots+(p_n-q_n)^2} = \\sqrt{\\sum_{i=1}^{n}(p_i-q_i)^2} $$"
   ]
  },
  {
   "cell_type": "code",
   "execution_count": null,
   "metadata": {},
   "outputs": [],
   "source": [
    "def euclidean_distance(P, Q):\n",
    "  \"\"\"\n",
    "  Calcula la distancia euclidiana entre los elementos de P y Q\n",
    "  \"\"\"\n",
    "  e_distance = 0\n",
    "  for i in range(len(P)):\n",
    "    e_distance += (P[i]-Q[i])**2 \n",
    "  return np.sqrt(e_distance)"
   ]
  },
  {
   "cell_type": "code",
   "execution_count": null,
   "metadata": {},
   "outputs": [],
   "source": [
    "a = np.array([[1, 2, 3]])\n",
    "b = np.array([[3, 3, 5]])\n",
    "euclidean_distance(a, b)"
   ]
  },
  {
   "cell_type": "code",
   "execution_count": null,
   "metadata": {},
   "outputs": [],
   "source": [
    "assert euclidean_distance(np.array([[1, 2, 3]]), np.array([[3, 3, 5]])) == 3.0, \"Error en euclidean_distance\""
   ]
  },
  {
   "cell_type": "markdown",
   "metadata": {},
   "source": [
    "## Obten el representante más cercano para cada ejemplo\n",
    "\n",
    "Rellena la función ```closest_point``` para asignar a cada ejemplo la etiqueta del dígito más cercano según su distancia al arreglo representativo.\n",
    "\n",
    "*¿Puedes hacerlo con 2, 1 o ningún ciclo for?*"
   ]
  },
  {
   "cell_type": "code",
   "execution_count": null,
   "metadata": {},
   "outputs": [],
   "source": [
    "def closest_point(X, representatives):\n",
    "  \"\"\"\n",
    "  Devuelve un arreglo con la etiqueta del elemento mas cercano\n",
    "  para cada ejemplo en X\n",
    "\n",
    "  X -  el arreglo con los ejemplos\n",
    "  representatives - el arreglo con los elementos representativos de cada clase\n",
    "  \"\"\"\n",
    "  # Numero de ejemplos (filas)\n",
    "  m = X.shape[0]\n",
    "  # Numero de features (columnas)\n",
    "  n = X.shape[1]\n",
    "  # Numero de clases\n",
    "  classes = representatives.shape[0]\n",
    "\n",
    "  # Distancias minimas\n",
    "  min_distances = np.full(m, np.inf)\n",
    "  # El indice de la mejor distancia\n",
    "  best = np.zeros((X.shape[0]), dtype=np.int8)\n",
    "\n",
    "  for i in range(m):\n",
    "    dist = 0\n",
    "    for j in range(classes):\n",
    "      # comparar X con representative, y por medio del euclediano sacar min dist\n",
    "      # al tener min dist, clasificar label y ponerlo en best\n",
    "      #X primer valor comparar con todols representatives\n",
    "      #si el valor es menor a cont min dist, reemplazae y poner index repr en best\n",
    "      dist = euclidean_distance(X[i], class_representatives[j])\n",
    "      if dist < min_distances[i]:\n",
    "        min_distances[i] = dist\n",
    "        best[i] = j\n",
    "  \n",
    "  return best"
   ]
  },
  {
   "cell_type": "code",
   "execution_count": null,
   "metadata": {},
   "outputs": [],
   "source": [
    "y_pred = closest_point(X, class_representatives)"
   ]
  },
  {
   "cell_type": "code",
   "execution_count": null,
   "metadata": {},
   "outputs": [],
   "source": [
    "assert y_pred.shape == (20000,) or y_pred.shape == (20000), \"Error en las dimensiones de y_pred\""
   ]
  },
  {
   "cell_type": "markdown",
   "metadata": {},
   "source": [
    "## Visualiza las predicciones"
   ]
  },
  {
   "cell_type": "code",
   "execution_count": null,
   "metadata": {},
   "outputs": [],
   "source": [
    "#intenta cambiar el valor de i\n",
    "i = 1\n",
    "\n",
    "example = X[i]\n",
    "pred_label = y_pred[i]\n",
    "true_label = y[i]\n",
    "display_example(example)\n",
    "print(\"Imágen con etiqueta: \", true_label, \" modelo dice:\", pred_label)"
   ]
  },
  {
   "cell_type": "markdown",
   "metadata": {},
   "source": [
    "## Evaluando el clasificador\n",
    "\n",
    "Una vez que tienes un modelo, debes evaluarlo para saber que tan bien (o mal) está haciendo su trabajo. Para el modelo clasificador de dígitos, usaremos una métrica típica de evaluación.\n",
    "\n",
    "---\n",
    "\n",
    "## Exactitúd (Accuracy)\n",
    "\n",
    "La exactitúd o accuracy mide el rendimiento general del modelo.\n",
    "\n",
    "Utiliza la siguiente fórmula para completar la función ```accuracy``` para medir el rendimiento del modelo de clasificación de dígitos:\n",
    "\n",
    "$$\\texttt{accuracy}(y, \\hat{y}) = \\frac{1}{m} \\sum_{i=0}^{m-1} 1(\\hat{y}_i = y_i)$$\n",
    "\n",
    "$$1(1(\\hat{y}_i = y_i) = 1 \\quad \\text{cuando} \\quad \\hat{y}_i = y_i$$\n",
    "\n",
    "$$1(1(\\hat{y}_i = y_i) = 0 \\quad \\text{cuando} \\quad \\hat{y}_i \\neq y_i$$\n",
    "\n",
    "$$m \\quad \\text{es el número de ejemplos}$$"
   ]
  },
  {
   "cell_type": "code",
   "execution_count": null,
   "metadata": {},
   "outputs": [],
   "source": [
    "def accuracy(y, y_pred):\n",
    "  \"\"\"\n",
    "  Devuelve la exactitud dados dos vectores \"y\" con la verdad\n",
    "  y \"y_pred\" con las predicciones\n",
    "  \"\"\"\n",
    "  m = y.shape[0]\n",
    "  sum = 0\n",
    "  div = 1/m\n",
    "  for i in range(m):\n",
    "    if y[i] == y_pred[i]:\n",
    "      sum +=1\n",
    "  acc = div * sum\n",
    "  return acc"
   ]
  },
  {
   "cell_type": "code",
   "execution_count": null,
   "metadata": {},
   "outputs": [],
   "source": [
    "accuracy(y, y_pred)"
   ]
  },
  {
   "cell_type": "markdown",
   "metadata": {},
   "source": [
    "¿Consideras que el modelo es bueno para predecir dígitos escritos a mano?, ¿crees que hay margen de mejora?"
   ]
  }
 ],
 "metadata": {
  "kernelspec": {
   "display_name": "Python 3",
   "language": "python",
   "name": "python3"
  },
  "language_info": {
   "codemirror_mode": {
    "name": "ipython",
    "version": 3
   },
   "file_extension": ".py",
   "mimetype": "text/x-python",
   "name": "python",
   "nbconvert_exporter": "python",
   "pygments_lexer": "ipython3",
   "version": "3.8.3"
  }
 },
 "nbformat": 4,
 "nbformat_minor": 4
}
